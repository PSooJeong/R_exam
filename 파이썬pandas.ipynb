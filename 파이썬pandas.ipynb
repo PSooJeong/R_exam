{
  "nbformat": 4,
  "nbformat_minor": 0,
  "metadata": {
    "colab": {
      "name": "파이썬pandas.ipynb",
      "provenance": [],
      "private_outputs": true,
      "collapsed_sections": [
        "7rIeYzl001_j",
        "Mrn-f4Cc0ucN",
        "F3QSdYBwqs2i",
        "z7rSnprG3qHP",
        "2C7026ox6B5w",
        "6W0aCALhQCvg",
        "qeKXND4zQgA-",
        "FrSyHMUNYhJh",
        "mjqoerjfa8AJ",
        "gCEcaydTeUXU",
        "Jcja-qOfpQ-N",
        "BlM8sE7Ep-dV",
        "MnXxf7qT2Brh",
        "jAx1RtFt3C78",
        "mEXjvHzA8nre",
        "7z-tHqm09mIv",
        "VEvT26q3-FDY",
        "uf047SkiBBbC",
        "aSfvs77mjTbG"
      ],
      "authorship_tag": "ABX9TyNLftfoZskguYDlsJ0MYr1n",
      "include_colab_link": true
    },
    "kernelspec": {
      "name": "python3",
      "display_name": "Python 3"
    }
  },
  "cells": [
    {
      "cell_type": "markdown",
      "metadata": {
        "id": "view-in-github",
        "colab_type": "text"
      },
      "source": [
        "<a href=\"https://colab.research.google.com/github/PSooJeong/R_exam/blob/master/%ED%8C%8C%EC%9D%B4%EC%8D%ACpandas.ipynb\" target=\"_parent\"><img src=\"https://colab.research.google.com/assets/colab-badge.svg\" alt=\"Open In Colab\"/></a>"
      ]
    },
    {
      "cell_type": "code",
      "metadata": {
        "id": "NpopzeOvtVxl"
      },
      "source": [
        ""
      ],
      "execution_count": null,
      "outputs": []
    },
    {
      "cell_type": "markdown",
      "metadata": {
        "id": "31QuWkLCteR0"
      },
      "source": [
        "#파이썬 pandas 패키지\n",
        "###1.2 pandas 패키지의 설치 및 구동과 자료의 생성"
      ]
    },
    {
      "cell_type": "code",
      "metadata": {
        "id": "MX7pSJzCvJu4"
      },
      "source": [
        "!pip install pandas -V # 설치 및 버전확인(-V)"
      ],
      "execution_count": null,
      "outputs": []
    },
    {
      "cell_type": "code",
      "metadata": {
        "id": "pLI0J0COt7jT"
      },
      "source": [
        "import numpy as np\n",
        "import pandas as pd\n",
        "from pandas import Series, DataFrame"
      ],
      "execution_count": null,
      "outputs": []
    },
    {
      "cell_type": "code",
      "metadata": {
        "id": "1Rw0nt2Hvdr7"
      },
      "source": [
        "pd.__version__"
      ],
      "execution_count": null,
      "outputs": []
    },
    {
      "cell_type": "markdown",
      "metadata": {
        "id": "7rIeYzl001_j"
      },
      "source": [
        "### [Python 1.1] 판다스의 Series객체와 DataFrame 객체의 생성"
      ]
    },
    {
      "cell_type": "markdown",
      "metadata": {
        "id": "E75DoS8mvyIJ"
      },
      "source": [
        " \n",
        "*   Series : 각 원소가 이름을 갖는 1차원 혼합 자료형 배열\n",
        "*   DataFrame : 행이름과 열이름이 있는 크기 변경이 가능한 테이블 구조의 배열\n",
        "\n"
      ]
    },
    {
      "cell_type": "code",
      "metadata": {
        "id": "GglTUjozwX8q"
      },
      "source": [
        "s = Series([10,20,30], index=['a','b','c']) #Series 객체에서 s를 만든다(index 원소의 이름(label)지정, 중복허용)\n",
        "\n",
        "s"
      ],
      "execution_count": null,
      "outputs": []
    },
    {
      "cell_type": "code",
      "metadata": {
        "id": "cQX_tGdwwhbH"
      },
      "source": [
        "df=DataFrame(s,columns=[\"A\"]) #s로 부터 DataFrame 객체 df를 만든다(열이름 A)\n",
        "df"
      ],
      "execution_count": null,
      "outputs": []
    },
    {
      "cell_type": "code",
      "metadata": {
        "id": "8V5L-xPzxJlI"
      },
      "source": [
        "s1 = Series(index=['a','b','c'])\n",
        "s1"
      ],
      "execution_count": null,
      "outputs": []
    },
    {
      "cell_type": "code",
      "metadata": {
        "id": "qDZP_mA3xtUQ"
      },
      "source": [
        "#s1=Series(index=['a','b','c'],[10,20,30]) # def Series(data=None, index=None, dtype=None, name=None, copy=False, fastpath=False) 순서대로 입력한다."
      ],
      "execution_count": null,
      "outputs": []
    },
    {
      "cell_type": "code",
      "metadata": {
        "id": "Gv7_FYZuypkB"
      },
      "source": [
        "s1=Series()#DeprecationWarning\n",
        "s1"
      ],
      "execution_count": null,
      "outputs": []
    },
    {
      "cell_type": "code",
      "metadata": {
        "id": "P3Irt4hcyH7_"
      },
      "source": [
        "s.__class__#s객체 클래스확인하기"
      ],
      "execution_count": null,
      "outputs": []
    },
    {
      "cell_type": "code",
      "metadata": {
        "id": "DYGpez2tz9H2"
      },
      "source": [
        "df.__class__#df 클래스확인하기"
      ],
      "execution_count": null,
      "outputs": []
    },
    {
      "cell_type": "markdown",
      "metadata": {
        "id": "Mrn-f4Cc0ucN"
      },
      "source": [
        "###[Python 1.2] Series와 DataFrame에서 index와 columns"
      ]
    },
    {
      "cell_type": "code",
      "metadata": {
        "id": "KTq4DxRd0H5Z"
      },
      "source": [
        "s.to_numpy()  #s객체(Series)를 numpy의 array클래스로 변경(to_numpy) --넘파이의 3차원 벡터"
      ],
      "execution_count": null,
      "outputs": []
    },
    {
      "cell_type": "code",
      "metadata": {
        "id": "6dXumy0S19fu"
      },
      "source": [
        "df.to_numpy() #df객체(DataFrame)를 numpy의 array클래스로 변경(to_numpy)  --넘파이의 3차원 벡터"
      ],
      "execution_count": null,
      "outputs": []
    },
    {
      "cell_type": "code",
      "metadata": {
        "id": "68JsDEYy2pEZ"
      },
      "source": [
        "s.to_numpy().shape #--넘파이의 3차원 벡터"
      ],
      "execution_count": null,
      "outputs": []
    },
    {
      "cell_type": "code",
      "metadata": {
        "id": "7_r1ZTQ024J1"
      },
      "source": [
        "df.to_numpy().shape #--넘파이의 3차원 벡터"
      ],
      "execution_count": null,
      "outputs": []
    },
    {
      "cell_type": "code",
      "metadata": {
        "id": "BA7WURp73C6R"
      },
      "source": [
        "s.index    #s = Series([10,20,30], index=['a','b','c'])"
      ],
      "execution_count": null,
      "outputs": []
    },
    {
      "cell_type": "code",
      "metadata": {
        "id": "A8nGfTh63N2F"
      },
      "source": [
        "df.index  #df=DataFrame(s,columns=[\"A\"])"
      ],
      "execution_count": null,
      "outputs": []
    },
    {
      "cell_type": "code",
      "metadata": {
        "id": "XCytsHA_3ek1"
      },
      "source": [
        "df.columns  #df=DataFrame(s,columns=[\"A\"])"
      ],
      "execution_count": null,
      "outputs": []
    },
    {
      "cell_type": "markdown",
      "metadata": {
        "id": "F3QSdYBwqs2i"
      },
      "source": [
        "##**[표6-1] 파이썬과 R에서의 데이터 프레임** "
      ]
    },
    {
      "cell_type": "markdown",
      "metadata": {
        "id": "z7rSnprG3qHP"
      },
      "source": [
        "\n",
        "클래스이름 / 열이름 / 행이름 / 크기         \n",
        "1.   판다스\n",
        "> *   DataFrame\n",
        "> *   columns\n",
        "> *   **index**(행)\n",
        "> *   shape\n",
        "2.    R\n",
        "> *  data.frame\n",
        "> *  names\n",
        "> *  row.names\n",
        "> *  dim \n",
        "\n",
        "\n",
        "\n",
        "\n",
        "\n"
      ]
    },
    {
      "cell_type": "code",
      "metadata": {
        "id": "7jAQPLRe6boK"
      },
      "source": [
        ""
      ],
      "execution_count": null,
      "outputs": []
    },
    {
      "cell_type": "markdown",
      "metadata": {
        "id": "2C7026ox6B5w"
      },
      "source": [
        "## [Python 1.3] 딕셔너리와 행렬을 이용한 DataFrame의 생성"
      ]
    },
    {
      "cell_type": "code",
      "metadata": {
        "id": "q9mW79I56c3E"
      },
      "source": [
        "d = { 'one' : Series([1,2], index=['a','b']),              #딕셔너리 d={키1:값1,키2:값2,키3:값3,}\n",
        "      'two' : Series([1,2,3], index=['a','b','c']) }       #키(key) 'one' : 값(value) Series([1,2], index=['a','b'])\n",
        "d"
      ],
      "execution_count": null,
      "outputs": []
    },
    {
      "cell_type": "code",
      "metadata": {
        "id": "ghIXi6gd60YU"
      },
      "source": [
        "df=DataFrame(d)     # df변수에 딕셔너리 d를  DataFrame으로 저장\n",
        "df"
      ],
      "execution_count": null,
      "outputs": []
    },
    {
      "cell_type": "code",
      "metadata": {
        "id": "WzecTzf-8S_n"
      },
      "source": [
        "x = np.arange(4).reshape((2,2)) # 넘파이 2차원 행렬을 만든다\n",
        "x"
      ],
      "execution_count": null,
      "outputs": []
    },
    {
      "cell_type": "code",
      "metadata": {
        "id": "dClFPNPJ9w0D"
      },
      "source": [
        "#x1=np.arange(9).reshape(3,1) # 3 * 3\n",
        "x1"
      ],
      "execution_count": null,
      "outputs": []
    },
    {
      "cell_type": "code",
      "metadata": {
        "id": "_QU7roKv9JJe"
      },
      "source": [
        "df=DataFrame(x) # 넘파이 행렬 x를 DataFrame으로 바꾸고 df에 저장\n",
        "df"
      ],
      "execution_count": null,
      "outputs": []
    },
    {
      "cell_type": "code",
      "metadata": {
        "id": "NWh3AX1w9Qvf"
      },
      "source": [
        "df.columns=[\"A\",\"B\"] #열이름지정하기(columns)\n",
        "df"
      ],
      "execution_count": null,
      "outputs": []
    },
    {
      "cell_type": "code",
      "metadata": {
        "id": "kUTnWXJE9bCe"
      },
      "source": [
        "df.index=[11,12]   #행이름지정하기(index)\n",
        "df"
      ],
      "execution_count": null,
      "outputs": []
    },
    {
      "cell_type": "markdown",
      "metadata": {
        "id": "hFWWZwRd_eeW"
      },
      "source": [
        "## 1.3 CSV 파일 입출력"
      ]
    },
    {
      "cell_type": "markdown",
      "metadata": {
        "id": "6W0aCALhQCvg"
      },
      "source": [
        "## [Python1.4] CSV 파일 입출력을 통한 DataFrame 읽기와 쓰기"
      ]
    },
    {
      "cell_type": "code",
      "metadata": {
        "id": "YHrWNwVg_-zT"
      },
      "source": [
        "from pandas import read_csv\n",
        "f=read_csv('/content/admission.csv')# 콜랩으로 업로드 \n",
        "f"
      ],
      "execution_count": null,
      "outputs": []
    },
    {
      "cell_type": "code",
      "metadata": {
        "id": "2KceY8knNtSi"
      },
      "source": [
        "f.__class__#class 확인하기"
      ],
      "execution_count": null,
      "outputs": []
    },
    {
      "cell_type": "code",
      "metadata": {
        "id": "j4XZQ7y5NyLb"
      },
      "source": [
        "f.shape #행렬.shape"
      ],
      "execution_count": null,
      "outputs": []
    },
    {
      "cell_type": "code",
      "metadata": {
        "id": "nFNW2aOFN8fE"
      },
      "source": [
        "f.to_csv('/content/old_admission.csv')#csv로 저장하기"
      ],
      "execution_count": null,
      "outputs": []
    },
    {
      "cell_type": "markdown",
      "metadata": {
        "id": "0DmmyzZYPtMm"
      },
      "source": [
        "## 1.4 R데이터 불러오기"
      ]
    },
    {
      "cell_type": "markdown",
      "metadata": {
        "id": "qeKXND4zQgA-"
      },
      "source": [
        "## [Python 1.5] R데이터를 불러서 DataFrame으로 활용하기"
      ]
    },
    {
      "cell_type": "code",
      "metadata": {
        "id": "WPuWYQbaQVe_"
      },
      "source": [
        "import statsmodels.api as sm  # statsmodels 패키지로 R에 있는 데이터 불러오기\n",
        "#########################\n",
        "# trees : 31그루의 블랙체리나무 폭(Girth),키(Height),부피(Volume)\n",
        "# mtcars : 32종류의 자동차에 대해서 연비에 영향을 미칠 만한 특성변수\n",
        "# iris : 세종류의 붓꽃 setosa, versicolor, virginica 각각 50개씩의 꽃의 꽃잎, 꽃받침의 폭과 길이\n",
        "#########################\n",
        "#trees = sm.datasets.get_rdataset(\"trees\")['data'] \n",
        "trees = sm.datasets.get_rdataset(\"trees\").data\n",
        "mtcars = sm.datasets.get_rdataset(\"mtcars\")['data']\n",
        "iris = sm.datasets.get_rdataset(\"iris\")['data']\n",
        "#trees\n"
      ],
      "execution_count": null,
      "outputs": []
    },
    {
      "cell_type": "code",
      "metadata": {
        "id": "kO51eNRCWKMw"
      },
      "source": [
        "trees.__class__"
      ],
      "execution_count": null,
      "outputs": []
    },
    {
      "cell_type": "code",
      "metadata": {
        "id": "DOGQcLOQWcUg"
      },
      "source": [
        "trees.shape"
      ],
      "execution_count": null,
      "outputs": []
    },
    {
      "cell_type": "code",
      "metadata": {
        "id": "5SoedSh7Wi9P"
      },
      "source": [
        ""
      ],
      "execution_count": null,
      "outputs": []
    },
    {
      "cell_type": "markdown",
      "metadata": {
        "id": "LusFvgnpWrMk"
      },
      "source": [
        "## 1.5 Series 자료의 이용"
      ]
    },
    {
      "cell_type": "markdown",
      "metadata": {
        "id": "FrSyHMUNYhJh"
      },
      "source": [
        "## [Python1.6]Series의 '이름 인덱스'와 '위치 인덱스'"
      ]
    },
    {
      "cell_type": "code",
      "metadata": {
        "id": "qNHn64qoWx_d"
      },
      "source": [
        "s1 = pd.Series([1.0, 2, 3])#위치 인덱스\n",
        "\n",
        "sa = pd.Series([1.0, 2, 3], index=['a','b','c'])#이름 인덱스\n",
        "\n",
        "sc = pd.Series([0.0, 1, 2], index=['a','b','d'])\n",
        "\n",
        "sn = pd.Series([1,2,1,3,3,5,3,4])#위치 인덱스\n"
      ],
      "execution_count": null,
      "outputs": []
    },
    {
      "cell_type": "code",
      "metadata": {
        "id": "bzq_M25dXP7Y"
      },
      "source": [
        "s1"
      ],
      "execution_count": null,
      "outputs": []
    },
    {
      "cell_type": "code",
      "metadata": {
        "id": "fNFIx6MHXkHq"
      },
      "source": [
        "s1-2 #위치인덱스 각 원소에서 2.0씩을 뺀다 "
      ],
      "execution_count": null,
      "outputs": []
    },
    {
      "cell_type": "code",
      "metadata": {
        "id": "qe-siPGIXzd7"
      },
      "source": [
        "sa"
      ],
      "execution_count": null,
      "outputs": []
    },
    {
      "cell_type": "code",
      "metadata": {
        "id": "F_liZ-X-X5fl"
      },
      "source": [
        "sc"
      ],
      "execution_count": null,
      "outputs": []
    },
    {
      "cell_type": "code",
      "metadata": {
        "id": "nrQWvbXcX6xe"
      },
      "source": [
        "sac=sa+sc\n",
        "#이름 인덱스로 지정하면 동일한 인덱스끼리 연산이 이루어짐 \n",
        "#공통 인덱스가 없으면 NaN(not-a-number:결측값)\n",
        "#어느 한쪽의 이름 인덱스만 있으면 NaN\n",
        "sac"
      ],
      "execution_count": null,
      "outputs": []
    },
    {
      "cell_type": "markdown",
      "metadata": {
        "id": "mjqoerjfa8AJ"
      },
      "source": [
        "## [Python 1.7] Series에 결측치 NaN의 처리"
      ]
    },
    {
      "cell_type": "code",
      "metadata": {
        "id": "EpHPeVI9bGTz"
      },
      "source": [
        "sac"
      ],
      "execution_count": null,
      "outputs": []
    },
    {
      "cell_type": "code",
      "metadata": {
        "id": "Q2ed-mMVbNvC"
      },
      "source": [
        "sac.isnull() # 값이 비어있는지 확인하기"
      ],
      "execution_count": null,
      "outputs": []
    },
    {
      "cell_type": "code",
      "metadata": {
        "id": "fQPWaD4LbW2f"
      },
      "source": [
        "sac.notnull()# 값이 채워져 있는지 확인하기"
      ],
      "execution_count": null,
      "outputs": []
    },
    {
      "cell_type": "code",
      "metadata": {
        "id": "QB4KwS5kbgjA"
      },
      "source": [
        "sac.fillna(-1.0) #NaN을 -1.0으로 채우기"
      ],
      "execution_count": null,
      "outputs": []
    },
    {
      "cell_type": "code",
      "metadata": {
        "id": "qPLLfVqFbwFv"
      },
      "source": [
        "sx=sac.dropna()# NaN인 행 삭제하기\n",
        "sx"
      ],
      "execution_count": null,
      "outputs": []
    },
    {
      "cell_type": "code",
      "metadata": {
        "id": "dRvgLOgacTeq"
      },
      "source": [
        "sy=sx.append(sc[:2])#sx에 sc[:2]를 붙여서 sy만들기\n",
        "sy"
      ],
      "execution_count": null,
      "outputs": []
    },
    {
      "cell_type": "code",
      "metadata": {
        "id": "NDAzuRrpdIGp"
      },
      "source": [
        "sy.drop('a')#이름 인덱스가 'a' 제외"
      ],
      "execution_count": null,
      "outputs": []
    },
    {
      "cell_type": "code",
      "metadata": {
        "id": "ktZaoSI7eBe-"
      },
      "source": [
        "sy"
      ],
      "execution_count": null,
      "outputs": []
    },
    {
      "cell_type": "code",
      "metadata": {
        "id": "XOUDoJKGeMme"
      },
      "source": [
        ""
      ],
      "execution_count": null,
      "outputs": []
    },
    {
      "cell_type": "markdown",
      "metadata": {
        "id": "gCEcaydTeUXU"
      },
      "source": [
        "## [표6-2] Series에 대한 주요 메소드"
      ]
    },
    {
      "cell_type": "code",
      "metadata": {
        "id": "_NCMmVQfexrA"
      },
      "source": [
        "import statsmodels.api as sm  # statsmodels 패키지로 R에 있는 데이터 불러오기\n",
        "mtcars = sm.datasets.get_rdataset(\"mtcars\")['data']"
      ],
      "execution_count": null,
      "outputs": []
    },
    {
      "cell_type": "code",
      "metadata": {
        "id": "XdQIuNDxfPPR"
      },
      "source": [
        "mtcars.head(0)#객체의 앞부분 제시"
      ],
      "execution_count": null,
      "outputs": []
    },
    {
      "cell_type": "code",
      "metadata": {
        "id": "IYiKguyYfXNT"
      },
      "source": [
        "mtcars.tail(3)#객체의 뒷부분 제시"
      ],
      "execution_count": null,
      "outputs": []
    },
    {
      "cell_type": "code",
      "metadata": {
        "id": "npmvMXzafcdG"
      },
      "source": [
        "mtcars['vs'].unique()# 중복을 제거하여 값을 제시"
      ],
      "execution_count": null,
      "outputs": []
    },
    {
      "cell_type": "code",
      "metadata": {
        "id": "KPRBuYmEgNAi"
      },
      "source": [
        "mtcars['vs']"
      ],
      "execution_count": null,
      "outputs": []
    },
    {
      "cell_type": "code",
      "metadata": {
        "id": "D-OhYakif56j"
      },
      "source": [
        "mtcars['vs'].nunique()# ???중복되지 않는 경우의 갯수  ???"
      ],
      "execution_count": null,
      "outputs": []
    },
    {
      "cell_type": "code",
      "metadata": {
        "id": "DOg7Wb6lnoSV"
      },
      "source": [
        "df = pd.DataFrame({'A': [1, 2, 3], 'B': [400, 500, 600]}) \n",
        "df"
      ],
      "execution_count": null,
      "outputs": []
    },
    {
      "cell_type": "code",
      "metadata": {
        "id": "MpO9KLCln8S3"
      },
      "source": [
        "new_df = pd.DataFrame({'B': [4, 5, 6], 'C': [7, 8, 9]}) \n",
        "new_df"
      ],
      "execution_count": null,
      "outputs": []
    },
    {
      "cell_type": "code",
      "metadata": {
        "id": "f9U7FDzooIE3"
      },
      "source": [
        "df.update(new_df) #update사용하기\n",
        "df"
      ],
      "execution_count": null,
      "outputs": []
    },
    {
      "cell_type": "code",
      "metadata": {
        "id": "9Szdmcujhv9e"
      },
      "source": [
        "new_m=mtcars['vs'].replace(1,100)\n",
        "new_m\n",
        "#객체의 해당 값을 새로운 값으로 변경(1을 100으로 변경)"
      ],
      "execution_count": null,
      "outputs": []
    },
    {
      "cell_type": "code",
      "metadata": {
        "id": "TkN0Rh07qOQ_"
      },
      "source": [
        "mtcars.shape"
      ],
      "execution_count": null,
      "outputs": []
    },
    {
      "cell_type": "markdown",
      "metadata": {
        "id": "Jcja-qOfpQ-N"
      },
      "source": [
        "## [표 6-3] Series에 대한 describe 적용 결과"
      ]
    },
    {
      "cell_type": "code",
      "metadata": {
        "id": "vLfOYCJ3qSFy"
      },
      "source": [
        "mtcars.describe()#기본적인 통계량 제시"
      ],
      "execution_count": null,
      "outputs": []
    },
    {
      "cell_type": "markdown",
      "metadata": {
        "id": "uOew0qkcpCTG"
      },
      "source": [
        "\n",
        "\n",
        "*   count : 자료의 갯수\n",
        "*   mean : 자료의 평균\n",
        "*   std : 표준편차\n",
        "*   min : 최소값\n",
        "*   25% : 제1사분위수\n",
        "*   50% : 제2사분위수\n",
        "*   75% : 제3사분위수\n",
        "*   max : 최댓값\n",
        "\n",
        "\n",
        "\n"
      ]
    },
    {
      "cell_type": "markdown",
      "metadata": {
        "id": "BlM8sE7Ep-dV"
      },
      "source": [
        "## [Python 1.8] Series에 대한 메소드 적용 예"
      ]
    },
    {
      "cell_type": "code",
      "metadata": {
        "id": "FLtgO6MNrVN5"
      },
      "source": [
        "sn = pd.Series([1,2,1,3,3,5,3,4])\n",
        "sn.head()"
      ],
      "execution_count": null,
      "outputs": []
    },
    {
      "cell_type": "code",
      "metadata": {
        "id": "985L_Infrff8"
      },
      "source": [
        "sn.describe()"
      ],
      "execution_count": null,
      "outputs": []
    },
    {
      "cell_type": "code",
      "metadata": {
        "id": "xc6RyAOark9T"
      },
      "source": [
        "list(sn.unique())#중복되지 않는 경우 수를 리스트로 만든다."
      ],
      "execution_count": null,
      "outputs": []
    },
    {
      "cell_type": "code",
      "metadata": {
        "id": "ZSyhOMyjryts"
      },
      "source": [
        "sn.nunique()"
      ],
      "execution_count": null,
      "outputs": []
    },
    {
      "cell_type": "code",
      "metadata": {
        "id": "ndT9F6Ntr3UJ"
      },
      "source": [
        "sn.replace([1,2],0)#1이거나 2이면 0으로 대체함"
      ],
      "execution_count": null,
      "outputs": []
    },
    {
      "cell_type": "markdown",
      "metadata": {
        "id": "39jMQlmvwIGP"
      },
      "source": [
        "## 1.6 DataFrame 자료의 이용"
      ]
    },
    {
      "cell_type": "markdown",
      "metadata": {
        "id": "5ZnQHwEUwTPU"
      },
      "source": [
        "##(1) DataFrame의 일부 선택과 일부 변경"
      ]
    },
    {
      "cell_type": "markdown",
      "metadata": {
        "id": "Gerk7wGxzsXi"
      },
      "source": [
        "#### **① df, dg를 이용하는 방법**"
      ]
    },
    {
      "cell_type": "code",
      "metadata": {
        "id": "aNqJWXXIwpgn"
      },
      "source": [
        "df= { 'A' : Series([1,1,0], index=['x','y','z']),              \n",
        "      'B' : Series([1,1,0], index=['x','y','z']),\n",
        "      'C' : Series([1,1,0], index=['x','y','z']),\n",
        "      'D' : Series([0,0,0], index=['x','y','z'])}       "
      ],
      "execution_count": null,
      "outputs": []
    },
    {
      "cell_type": "code",
      "metadata": {
        "id": "LYTXvMu_xCEC"
      },
      "source": [
        "df=DataFrame(df)     # df변수에 딕셔너리 d를  DataFrame으로 저장\n",
        "df"
      ],
      "execution_count": null,
      "outputs": []
    },
    {
      "cell_type": "code",
      "metadata": {
        "id": "Brh4f2J7zwkz"
      },
      "source": [
        "df[0:1]#0행 선택"
      ],
      "execution_count": null,
      "outputs": []
    },
    {
      "cell_type": "code",
      "metadata": {
        "id": "J97alZNqz96j"
      },
      "source": [
        "df['x':'y']"
      ],
      "execution_count": null,
      "outputs": []
    },
    {
      "cell_type": "code",
      "metadata": {
        "id": "EbKvAUuO0GcX"
      },
      "source": [
        "df[::-1]  # 모든 행"
      ],
      "execution_count": null,
      "outputs": []
    },
    {
      "cell_type": "code",
      "metadata": {
        "id": "G0pZt7CA0QAI"
      },
      "source": [
        "df[:]"
      ],
      "execution_count": null,
      "outputs": []
    },
    {
      "cell_type": "code",
      "metadata": {
        "id": "28f7Sv3Q0Xig"
      },
      "source": [
        "df['A'] #A열"
      ],
      "execution_count": null,
      "outputs": []
    },
    {
      "cell_type": "code",
      "metadata": {
        "id": "SPhQpJkv0dmh"
      },
      "source": [
        "df[['A','B']]  #열의 이름 2개 이상 일때 [[]]"
      ],
      "execution_count": null,
      "outputs": []
    },
    {
      "cell_type": "code",
      "metadata": {
        "id": "e0nkxrOP1OGX"
      },
      "source": [
        "df[df>0]  #전체 행과 열을 모두 출력 ,z 행과 D열을 NaN표시"
      ],
      "execution_count": null,
      "outputs": []
    },
    {
      "cell_type": "code",
      "metadata": {
        "id": "l_hE3rHG1jGP"
      },
      "source": [
        "df[df.A>0]  #A열이 양수인 x, y 행만 출력"
      ],
      "execution_count": null,
      "outputs": []
    },
    {
      "cell_type": "markdown",
      "metadata": {
        "id": "MnXxf7qT2Brh"
      },
      "source": [
        "#### **② df.iloc, dg.iloc을 이용하는 방법**"
      ]
    },
    {
      "cell_type": "code",
      "metadata": {
        "id": "ndFFwhKHyZay"
      },
      "source": [
        "dg= { 'A' : Series([1,1,0], index=[0,1,2]),              #딕셔너리 d={키1:값1,키2:값2,키3:값3,}\n",
        "      'B' : Series([1,1,0], index=[0,1,2]),\n",
        "      'C' : Series([1,1,0], index=[0,1,2]),\n",
        "      'D' : Series([0,0,0], index=[0,1,2])}       "
      ],
      "execution_count": null,
      "outputs": []
    },
    {
      "cell_type": "code",
      "metadata": {
        "id": "R5uNqyjXyn9U"
      },
      "source": [
        "dg=DataFrame(dg)\n",
        "dg"
      ],
      "execution_count": null,
      "outputs": []
    },
    {
      "cell_type": "code",
      "metadata": {
        "id": "xYw0VmJWzN6P"
      },
      "source": [
        "df.iloc[0,0]"
      ],
      "execution_count": null,
      "outputs": []
    },
    {
      "cell_type": "code",
      "metadata": {
        "id": "6Qg4E9-L2gPq"
      },
      "source": [
        "df.iloc[[0],[0]]"
      ],
      "execution_count": null,
      "outputs": []
    },
    {
      "cell_type": "code",
      "metadata": {
        "id": "_qJBqFrI2m8j"
      },
      "source": [
        "df.iloc[:,[0]]"
      ],
      "execution_count": null,
      "outputs": []
    },
    {
      "cell_type": "code",
      "metadata": {
        "id": "zXw2kBv02wD5"
      },
      "source": [
        "df.iloc[[2,0],::-1]  #???"
      ],
      "execution_count": null,
      "outputs": []
    },
    {
      "cell_type": "markdown",
      "metadata": {
        "id": "jAx1RtFt3C78"
      },
      "source": [
        "#### **③ df.*loc*, dg.*loc* 이용하는 방법**"
      ]
    },
    {
      "cell_type": "code",
      "metadata": {
        "id": "0jeSFdfl3MEt"
      },
      "source": [
        "df.loc['x','A']  #1"
      ],
      "execution_count": null,
      "outputs": []
    },
    {
      "cell_type": "code",
      "metadata": {
        "id": "_poEYfbP3SY5"
      },
      "source": [
        "df.loc[['x'],['A']] #1"
      ],
      "execution_count": null,
      "outputs": []
    },
    {
      "cell_type": "code",
      "metadata": {
        "id": "ykbBXTqf78IO"
      },
      "source": [
        "dg.loc[0,'A'] #1"
      ],
      "execution_count": null,
      "outputs": []
    },
    {
      "cell_type": "code",
      "metadata": {
        "id": "l0LCTiRV8ELs"
      },
      "source": [
        "dg.loc[[0],['A']] #1"
      ],
      "execution_count": null,
      "outputs": []
    },
    {
      "cell_type": "markdown",
      "metadata": {
        "id": "mEXjvHzA8nre"
      },
      "source": [
        "#### **④ df.*at*, dg.*iat* 이용하는 방법**"
      ]
    },
    {
      "cell_type": "code",
      "metadata": {
        "id": "T6ILUtW59H6b"
      },
      "source": [
        "df.iat[0,0] #df.iloc[0,0]과 같다"
      ],
      "execution_count": null,
      "outputs": []
    },
    {
      "cell_type": "code",
      "metadata": {
        "id": "PPssElg99MGj"
      },
      "source": [
        "df.at['x','A'] #df.loc['x','A']"
      ],
      "execution_count": null,
      "outputs": []
    },
    {
      "cell_type": "markdown",
      "metadata": {
        "id": "7z-tHqm09mIv"
      },
      "source": [
        "#### **⑤ 선택된 영역의 변경**"
      ]
    },
    {
      "cell_type": "code",
      "metadata": {
        "id": "9TH-Zo3n9xFf"
      },
      "source": [
        "df[df>0]"
      ],
      "execution_count": null,
      "outputs": []
    },
    {
      "cell_type": "code",
      "metadata": {
        "id": "Cs4q-oIK94wR"
      },
      "source": [
        "df[df>0]=0\n",
        "df"
      ],
      "execution_count": null,
      "outputs": []
    },
    {
      "cell_type": "markdown",
      "metadata": {
        "id": "VEvT26q3-FDY"
      },
      "source": [
        "##[Python 1.9] tree4 데이터의 일부 선택"
      ]
    },
    {
      "cell_type": "code",
      "metadata": {
        "id": "aTScoDdr-fR4"
      },
      "source": [
        "import statsmodels.api as sm  # statsmodels 패키지로 R에 있는 데이터 불러오기\n",
        "#########################\n",
        "# trees : 31그루의 블랙체리나무 폭(Girth),키(Height),부피(Volume)\n",
        "# mtcars : 32종류의 자동차에 대해서 연비에 영향을 미칠 만한 특성변수\n",
        "# iris : 세종류의 붓꽃 setosa, versicolor, virginica 각각 50개씩의 꽃의 꽃잎, 꽃받침의 폭과 길이\n",
        "#########################\n",
        "#trees = sm.datasets.get_rdataset(\"trees\")['data'] \n",
        "trees = sm.datasets.get_rdataset(\"trees\").data\n",
        "mtcars = sm.datasets.get_rdataset(\"mtcars\")['data']\n",
        "iris = sm.datasets.get_rdataset(\"iris\")['data']\n",
        "trees.head()\n"
      ],
      "execution_count": null,
      "outputs": []
    },
    {
      "cell_type": "code",
      "metadata": {
        "id": "XHu9YrpM-iIr"
      },
      "source": [
        "tree4=trees[0:4].copy()#0,1,2,3행 복사하기\n",
        "tree4.index=['B','E','C','A']#행이름 지정하기\n",
        "tree4"
      ],
      "execution_count": null,
      "outputs": []
    },
    {
      "cell_type": "code",
      "metadata": {
        "id": "2aws2WXF_RZg"
      },
      "source": [
        "tree4[tree4>10]  ##Girth 데이터가 10 이 안되면 NaN"
      ],
      "execution_count": null,
      "outputs": []
    },
    {
      "cell_type": "code",
      "metadata": {
        "id": "Tl15kI6__1pB"
      },
      "source": [
        "tree4[tree4.Height > 65]  #height가 65 초과 데이터"
      ],
      "execution_count": null,
      "outputs": []
    },
    {
      "cell_type": "code",
      "metadata": {
        "id": "Brs4Z1HvAB4l"
      },
      "source": [
        "tree4['E':'C'] #E행부터 C행까지 출력 "
      ],
      "execution_count": null,
      "outputs": []
    },
    {
      "cell_type": "code",
      "metadata": {
        "id": "PTM2vjmtAaLP"
      },
      "source": [
        "tree4[['Girth','Height']]#열이름 [['열이름']]"
      ],
      "execution_count": null,
      "outputs": []
    },
    {
      "cell_type": "markdown",
      "metadata": {
        "id": "uf047SkiBBbC"
      },
      "source": [
        "## [Python 1.10] iloc,loc을 이용한 tree4 데이터의 일부 선택"
      ]
    },
    {
      "cell_type": "code",
      "metadata": {
        "id": "0coB6tHrBNJj"
      },
      "source": [
        "tree4.iloc[[0,2],[0,1]] #2행 2열"
      ],
      "execution_count": null,
      "outputs": []
    },
    {
      "cell_type": "code",
      "metadata": {
        "id": "jRPm3c6hPVva"
      },
      "source": [
        "tree4.iloc[:2,[0,1]] #2행 2열"
      ],
      "execution_count": null,
      "outputs": []
    },
    {
      "cell_type": "code",
      "metadata": {
        "id": "Bn44qVRmPcHU"
      },
      "source": [
        "tree4.iloc[:2,0:1] #2행 1열"
      ],
      "execution_count": null,
      "outputs": []
    },
    {
      "cell_type": "code",
      "metadata": {
        "id": "LyjUTd2BPuAp"
      },
      "source": [
        "tree4.loc['E':'C'] #E행부터 C행까지"
      ],
      "execution_count": null,
      "outputs": []
    },
    {
      "cell_type": "code",
      "metadata": {
        "id": "JCMFfmSTQJhB"
      },
      "source": [
        "tree4.loc[['E','C'],['Girth','Height']]#2행 2열"
      ],
      "execution_count": null,
      "outputs": []
    },
    {
      "cell_type": "code",
      "metadata": {
        "id": "-cBHro1ZQTfy"
      },
      "source": [
        "tree4.loc[['E','C'],['Girth','Volume']]#2행 2열"
      ],
      "execution_count": null,
      "outputs": []
    },
    {
      "cell_type": "markdown",
      "metadata": {
        "id": "Jy9mwqF5THcS"
      },
      "source": [
        "##(2) DataFrame에 적용되는 주요 함수와 속성"
      ]
    },
    {
      "cell_type": "markdown",
      "metadata": {
        "id": "aSfvs77mjTbG"
      },
      "source": [
        "##[표6-4] DataFrame에 적용되는 주요 함수와 속성 p.154"
      ]
    },
    {
      "cell_type": "code",
      "metadata": {
        "id": "2Gbu3UPNjsdV"
      },
      "source": [
        "import statsmodels.api as sm  # statsmodels 패키지로 R에 있는 데이터 불러오기\n",
        "#########################\n",
        "# trees : 31그루의 블랙체리나무 폭(Girth),키(Height),부피(Volume)\n",
        "# mtcars : 32종류의 자동차에 대해서 연비에 영향을 미칠 만한 특성변수\n",
        "# iris : 세종류의 붓꽃 setosa, versicolor, virginica 각각 50개씩의 꽃의 꽃잎, 꽃받침의 폭과 길이\n",
        "#########################\n",
        "#trees = sm.datasets.get_rdataset(\"trees\")['data'] \n",
        "trees = sm.datasets.get_rdataset(\"trees\").data\n",
        "mtcars = sm.datasets.get_rdataset(\"mtcars\")['data']\n",
        "iris = sm.datasets.get_rdataset(\"iris\")['data']\n",
        "#trees\n"
      ],
      "execution_count": null,
      "outputs": []
    },
    {
      "cell_type": "code",
      "metadata": {
        "id": "K8WLZ4e4kAAK"
      },
      "source": [
        "iris.dtypes  #iris 원소의 자료형"
      ],
      "execution_count": null,
      "outputs": []
    },
    {
      "cell_type": "code",
      "metadata": {
        "id": "PLZ0-1kHkLPX"
      },
      "source": [
        "tn_iris=iris.to_numpy() #DataFrame을 numpy array로 변환\n",
        "tn_iris"
      ],
      "execution_count": null,
      "outputs": []
    },
    {
      "cell_type": "code",
      "metadata": {
        "id": "MkNe5aUakb8L"
      },
      "source": [
        "df_iris=pd.DataFrame(iris)\n",
        "df_iris.index  #DataFrame의 행이름(row label)"
      ],
      "execution_count": null,
      "outputs": []
    },
    {
      "cell_type": "code",
      "metadata": {
        "id": "kqiTmvWnlCtT"
      },
      "source": [
        "df_iris.columns #DataFrame의 열이름(row label)"
      ],
      "execution_count": null,
      "outputs": []
    },
    {
      "cell_type": "code",
      "metadata": {
        "id": "7s2SE8lSlSlS"
      },
      "source": [
        "df_iris.head(5)"
      ],
      "execution_count": null,
      "outputs": []
    },
    {
      "cell_type": "code",
      "metadata": {
        "id": "Yorlc102labD"
      },
      "source": [
        "df_iris.T #DataFrame 전치하기 transpose()"
      ],
      "execution_count": null,
      "outputs": []
    },
    {
      "cell_type": "code",
      "metadata": {
        "id": "TLil3cBNlpG7"
      },
      "source": [
        "df_iris.sort_index() #DataFrame 행이름에 따른 정렬"
      ],
      "execution_count": null,
      "outputs": []
    },
    {
      "cell_type": "code",
      "metadata": {
        "id": "eMnPa2cXmBil"
      },
      "source": [
        "df_iris['Sepal.Length'].sort_values() #DataFrame 값에 따른 정렬"
      ],
      "execution_count": null,
      "outputs": []
    },
    {
      "cell_type": "code",
      "metadata": {
        "id": "4fO_nmREmTfN"
      },
      "source": [
        "s=df_iris['Species'] #꽃 이름 저장"
      ],
      "execution_count": null,
      "outputs": []
    },
    {
      "cell_type": "code",
      "metadata": {
        "id": "5Di5UFBumzQi"
      },
      "source": [
        "s.drop_duplicates() #중복된 행 제거"
      ],
      "execution_count": null,
      "outputs": []
    },
    {
      "cell_type": "markdown",
      "metadata": {
        "id": "rRJMYSHsnct6"
      },
      "source": [
        "## [Python 1.11] 데이터의 전치와 행렬"
      ]
    },
    {
      "cell_type": "code",
      "metadata": {
        "id": "3KThhnMrnekG"
      },
      "source": [
        "tree4.T #전치하기\n"
      ],
      "execution_count": null,
      "outputs": []
    },
    {
      "cell_type": "code",
      "metadata": {
        "id": "NqYnmBk7nwa9"
      },
      "source": [
        "tree4.sort_index() #행이름 정렬"
      ],
      "execution_count": null,
      "outputs": []
    },
    {
      "cell_type": "code",
      "metadata": {
        "id": "IeTJ07n3n4AK"
      },
      "source": [
        "tree4.sort_values('Height')#Height를 기준으로 정렬 "
      ],
      "execution_count": null,
      "outputs": []
    },
    {
      "cell_type": "code",
      "metadata": {
        "id": "WeOsi_qfoJ9r"
      },
      "source": [
        "tree4.mean() #열을 기준으로 평균"
      ],
      "execution_count": null,
      "outputs": []
    },
    {
      "cell_type": "code",
      "metadata": {
        "id": "ZWuKh6N0oRx1"
      },
      "source": [
        "tree4.mean(1) #행을 기준으로 평균"
      ],
      "execution_count": null,
      "outputs": []
    },
    {
      "cell_type": "code",
      "metadata": {
        "id": "OBdfeexxo0k5"
      },
      "source": [
        "tree4.cumsum() #누적합"
      ],
      "execution_count": null,
      "outputs": []
    },
    {
      "cell_type": "code",
      "metadata": {
        "id": "kuo0jQDyo8Iy"
      },
      "source": [
        "tree4.apply(np.cumsum) #넘파이를 사용 누적합"
      ],
      "execution_count": null,
      "outputs": []
    },
    {
      "cell_type": "code",
      "metadata": {
        "id": "jMx2sVqPpPo-"
      },
      "source": [
        "tree4.apply(lambda x:x.max()) # 람다함수 : 이름을 부여하지 않는 무명의 함수"
      ],
      "execution_count": null,
      "outputs": []
    },
    {
      "cell_type": "markdown",
      "metadata": {
        "id": "FtTk7Mv5qMMs"
      },
      "source": [
        "## [표6-5] DataFrame에 적용되는 통계계산 목적 메소드들"
      ]
    },
    {
      "cell_type": "code",
      "metadata": {
        "id": "kYbiR8AAq_ky"
      },
      "source": [
        "iris.count()"
      ],
      "execution_count": null,
      "outputs": []
    },
    {
      "cell_type": "code",
      "metadata": {
        "id": "Ufsvfw4orZCh"
      },
      "source": [
        "iris.head()"
      ],
      "execution_count": null,
      "outputs": []
    },
    {
      "cell_type": "code",
      "metadata": {
        "id": "aoW8RLQyrFOQ"
      },
      "source": [
        "iris['Sepal.Length'].sum()"
      ],
      "execution_count": null,
      "outputs": []
    },
    {
      "cell_type": "code",
      "metadata": {
        "id": "syAhNdi7rSZZ"
      },
      "source": [
        "iris['Sepal.Length'].mean()"
      ],
      "execution_count": null,
      "outputs": []
    },
    {
      "cell_type": "code",
      "metadata": {
        "id": "VIG9F0Z2r5ZA"
      },
      "source": [
        "iris['Sepal.Length'].median()"
      ],
      "execution_count": null,
      "outputs": []
    },
    {
      "cell_type": "code",
      "metadata": {
        "id": "aSnt9Fymr_Nx"
      },
      "source": [
        "iris['Sepal.Length'].min()"
      ],
      "execution_count": null,
      "outputs": []
    },
    {
      "cell_type": "code",
      "metadata": {
        "id": "Rd1vmJucsDUk"
      },
      "source": [
        "iris['Sepal.Length'].max()"
      ],
      "execution_count": null,
      "outputs": []
    },
    {
      "cell_type": "code",
      "metadata": {
        "id": "EUGGPLC2sFpu"
      },
      "source": [
        "iris['Sepal.Length'].std()#표준편차"
      ],
      "execution_count": null,
      "outputs": []
    },
    {
      "cell_type": "code",
      "metadata": {
        "id": "FUaajCtjsL4p"
      },
      "source": [
        "iris['Sepal.Length'].var()#표본분산"
      ],
      "execution_count": null,
      "outputs": []
    },
    {
      "cell_type": "code",
      "metadata": {
        "id": "fshfjHiXsTIX"
      },
      "source": [
        "iris['Sepal.Length'].skew()#표본왜도"
      ],
      "execution_count": null,
      "outputs": []
    },
    {
      "cell_type": "code",
      "metadata": {
        "id": "fq0L3aKEsaPK"
      },
      "source": [
        "iris['Sepal.Length'].kurt()#표본왜도"
      ],
      "execution_count": null,
      "outputs": []
    },
    {
      "cell_type": "code",
      "metadata": {
        "id": "X_NpZRodsgyz"
      },
      "source": [
        "iris['Sepal.Length'].quantile()#백분위수"
      ],
      "execution_count": null,
      "outputs": []
    },
    {
      "cell_type": "code",
      "metadata": {
        "id": "V5Q6M0-itF5G"
      },
      "source": [
        "iris.cov()  #표본 공분산"
      ],
      "execution_count": null,
      "outputs": []
    },
    {
      "cell_type": "code",
      "metadata": {
        "id": "LCe00x8qu30C"
      },
      "source": [
        "iris.corr()  #상관계수"
      ],
      "execution_count": null,
      "outputs": []
    },
    {
      "cell_type": "markdown",
      "metadata": {
        "id": "jS4nZZy6vI3Z"
      },
      "source": [
        "## p.184 연습문제  [그림 6-1] 의 데이터 프레임 df, dg"
      ]
    },
    {
      "cell_type": "markdown",
      "metadata": {
        "id": "sCsowjDLvaO5"
      },
      "source": [
        "#### **① df.loc['x']의 클래스는 무엇인가?**"
      ]
    },
    {
      "cell_type": "code",
      "metadata": {
        "id": "SGUFHHMjvl2c"
      },
      "source": [
        "import pandas as pd\n",
        "df=pd.DataFrame([[1,1,1,0],\n",
        "                [1,1,1,0],\n",
        "                [0,0,0,0]],\n",
        "                index=['x','y','z'],\n",
        "                columns=['A','B','C','D'])\n",
        "dg=pd.DataFrame([[1,1,1,0],\n",
        "                [1,1,1,0],\n",
        "                [0,0,0,0]],\n",
        "                columns=['A','B','C','D'])"
      ],
      "execution_count": null,
      "outputs": []
    },
    {
      "cell_type": "code",
      "metadata": {
        "id": "Ov2Kpf-NwE4R"
      },
      "source": [
        "df"
      ],
      "execution_count": null,
      "outputs": []
    },
    {
      "cell_type": "code",
      "metadata": {
        "id": "DI2RfXPWwHDx"
      },
      "source": [
        "dg"
      ],
      "execution_count": null,
      "outputs": []
    },
    {
      "cell_type": "code",
      "metadata": {
        "id": "kfKBN-hcwNuu"
      },
      "source": [
        "df.loc['x'].__class__"
      ],
      "execution_count": null,
      "outputs": []
    },
    {
      "cell_type": "markdown",
      "metadata": {
        "id": "BVHZr-2Mwip8"
      },
      "source": [
        "#### **② df.loc을 이용하여 제1행('x')으로 이루어진 데이터프레임을 선택하려면?**"
      ]
    },
    {
      "cell_type": "code",
      "metadata": {
        "id": "RiqJFcyxw1Ut"
      },
      "source": [
        "df.loc[['x']]"
      ],
      "execution_count": null,
      "outputs": []
    },
    {
      "cell_type": "markdown",
      "metadata": {
        "id": "bwWb_0jqxkpl"
      },
      "source": [
        "#### **③ df를 이용하여 제1행('x')으로 이루어진 데이터프레임을 선택하려면?**"
      ]
    },
    {
      "cell_type": "code",
      "metadata": {
        "id": "7bUJgfqOxs6z"
      },
      "source": [
        "df[0:1]"
      ],
      "execution_count": null,
      "outputs": []
    },
    {
      "cell_type": "markdown",
      "metadata": {
        "id": "GFCeefyGx_VG"
      },
      "source": [
        "####  **④ dg.iloc[0:2],dg.loc[0:2],dg[0:2] 결과 비교** "
      ]
    },
    {
      "cell_type": "code",
      "metadata": {
        "id": "JCLhcxTAybKp"
      },
      "source": [
        "dg.iloc[0:2] #iloc 행 위치 : 0,1 행"
      ],
      "execution_count": null,
      "outputs": []
    },
    {
      "cell_type": "code",
      "metadata": {
        "id": "fbeGktp3ygHA"
      },
      "source": [
        "dg.loc[0:2] #loc 행이름 : 0,1,2 번"
      ],
      "execution_count": null,
      "outputs": []
    },
    {
      "cell_type": "code",
      "metadata": {
        "id": "re2UVd5Uyn1p"
      },
      "source": [
        "dg[0:2] #행 위치 슬라이스 :0,1 행"
      ],
      "execution_count": null,
      "outputs": []
    },
    {
      "cell_type": "markdown",
      "metadata": {
        "id": "0nrA_7uvzzls"
      },
      "source": [
        "####  **⑤ df.loc[::-1], dg.loc[::-1], df.loc[2::-1], dg.loc[2::-1] 결과 비교** "
      ]
    },
    {
      "cell_type": "code",
      "metadata": {
        "id": "yq4yNc0_0RC-"
      },
      "source": [
        "df.loc[::-1]"
      ],
      "execution_count": null,
      "outputs": []
    },
    {
      "cell_type": "code",
      "metadata": {
        "id": "PqM6ZYtp5EbY"
      },
      "source": [
        "dg.loc[::-1]"
      ],
      "execution_count": null,
      "outputs": []
    },
    {
      "cell_type": "code",
      "metadata": {
        "id": "dmVSL_Rh5GF9"
      },
      "source": [
        "df.loc[2::-1]"
      ],
      "execution_count": null,
      "outputs": []
    },
    {
      "cell_type": "code",
      "metadata": {
        "id": "a4GZ5Q445Rdi"
      },
      "source": [
        " dg.loc[2::-1]"
      ],
      "execution_count": null,
      "outputs": []
    }
  ]
}